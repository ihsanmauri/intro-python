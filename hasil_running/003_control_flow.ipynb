{
  "nbformat": 4,
  "nbformat_minor": 0,
  "metadata": {
    "colab": {
      "name": "Copy of 003_control-flow",
      "provenance": []
    },
    "kernelspec": {
      "name": "python3",
      "display_name": "Python 3"
    }
  },
  "cells": [
    {
      "cell_type": "markdown",
      "metadata": {
        "id": "K62nVPYYwPRt"
      },
      "source": [
        "*Research Center Digital Business Ecosystem - Telkom University*\n",
        "\n",
        "\n",
        "---\n",
        "\n"
      ]
    },
    {
      "cell_type": "markdown",
      "metadata": {
        "id": "0lv5orlUufRY"
      },
      "source": [
        "# **Control Flow**\n",
        "Control flow (or flow of control) is the order in which individual statements, instructions or function calls of an imperative program are executed or evaluated."
      ]
    },
    {
      "cell_type": "markdown",
      "metadata": {
        "id": "4RbjRwPT2Ncu"
      },
      "source": [
        "## **If Statement**"
      ]
    },
    {
      "cell_type": "markdown",
      "metadata": {
        "id": "2EW91AFVuYzA"
      },
      "source": [
        "### **If**\n",
        "If statement is the most simple decision making statement. It is used to decide whether a certain statement or block of statements will be executed or not i.e if a certain condition is true then a block of statement is executed otherwise not."
      ]
    },
    {
      "cell_type": "code",
      "metadata": {
        "id": "BUAHVyJQ2bZ-",
        "outputId": "96124d92-3947-4cff-f8db-2032b800d614",
        "colab": {
          "base_uri": "https://localhost:8080/",
          "height": 133
        }
      },
      "source": [
        "# If \n",
        "i = 10\n",
        "if (i > 15): \n",
        "print (\"10 is less than 15\") \n",
        "print (\"I am Not in if\") "
      ],
      "execution_count": 1,
      "outputs": [
        {
          "output_type": "error",
          "ename": "IndentationError",
          "evalue": "ignored",
          "traceback": [
            "\u001b[0;36m  File \u001b[0;32m\"<ipython-input-1-8bf8d314c2f9>\"\u001b[0;36m, line \u001b[0;32m4\u001b[0m\n\u001b[0;31m    print (\"10 is less than 15\")\u001b[0m\n\u001b[0m        ^\u001b[0m\n\u001b[0;31mIndentationError\u001b[0m\u001b[0;31m:\u001b[0m expected an indented block\n"
          ]
        }
      ]
    },
    {
      "cell_type": "code",
      "metadata": {
        "id": "O7w30FZvwdYK",
        "outputId": "10e1eddc-ffa5-4936-e840-121f47c33add",
        "colab": {
          "base_uri": "https://localhost:8080/",
          "height": 71
        }
      },
      "source": [
        "var = -1\n",
        "if var < 0:\n",
        "  print (var)\n",
        "  print (\"the value of var is negative\")\n",
        "# If the suite of an if clause consists only of a single line, it may go on\n",
        "# the same line as the header statement\n",
        "if ( var == -1 ) : print (\"the value of var is negative\")"
      ],
      "execution_count": 2,
      "outputs": [
        {
          "output_type": "stream",
          "text": [
            "-1\n",
            "the value of var is negative\n",
            "the value of var is negative\n"
          ],
          "name": "stdout"
        }
      ]
    },
    {
      "cell_type": "markdown",
      "metadata": {
        "id": "H-W43tbu2RZA"
      },
      "source": [
        "### **If Else**\n",
        "The if statement alone tells us that if a condition is true it will execute a block of statements and if the condition is false it won’t. But what if we want to do something else if the condition is false. Here comes the else statement. We can use the else statement with if statement to execute a block of code when the condition is false."
      ]
    },
    {
      "cell_type": "code",
      "metadata": {
        "id": "N_k4NF8m123s",
        "outputId": "927b3ae4-b206-44dc-d90f-b9eb19b46a6b",
        "colab": {
          "base_uri": "https://localhost:8080/",
          "height": 71
        }
      },
      "source": [
        "# If Else\n",
        "i = 20; \n",
        "if (i < 15): \n",
        "\tprint (\"i is smaller than 15\") \n",
        "\tprint (\"i'm in if Block\") \n",
        "else: \n",
        "\tprint (\"i is greater than 15\") \n",
        "\tprint (\"i'm in else Block\") \n",
        "print (\"i'm not in if and not in else Block\") "
      ],
      "execution_count": 3,
      "outputs": [
        {
          "output_type": "stream",
          "text": [
            "i is greater than 15\n",
            "i'm in else Block\n",
            "i'm not in if and not in else Block\n"
          ],
          "name": "stdout"
        }
      ]
    },
    {
      "cell_type": "code",
      "metadata": {
        "id": "jYR9aycrxs_h",
        "outputId": "710425ac-1627-4137-b7e2-8c71aa0bfe85",
        "colab": {
          "base_uri": "https://localhost:8080/",
          "height": 53
        }
      },
      "source": [
        "var = 1\n",
        "if var < 0:\n",
        "  print (\"the value of var is negative\")\n",
        "  print (var)\n",
        "else:\n",
        "  print (\"the value of var is positive\")\n",
        "  print (var)"
      ],
      "execution_count": 4,
      "outputs": [
        {
          "output_type": "stream",
          "text": [
            "the value of var is positive\n",
            "1\n"
          ],
          "name": "stdout"
        }
      ]
    },
    {
      "cell_type": "markdown",
      "metadata": {
        "id": "elccbwqkx_T9"
      },
      "source": [
        "Example Code for Nested “if else” Statements"
      ]
    },
    {
      "cell_type": "code",
      "metadata": {
        "id": "8Ccaynbjx3qt",
        "outputId": "46fd2353-f85c-49fc-f991-0394a30d1f72",
        "colab": {
          "base_uri": "https://localhost:8080/",
          "height": 35
        }
      },
      "source": [
        "score = 95\n",
        "if score >= 99:\n",
        "  print('A')\n",
        "elif score >=75:\n",
        "  print('B')\n",
        "elif score >= 60:\n",
        "  print('C')\n",
        "elif score >= 35:\n",
        "  print('D')\n",
        "else:\n",
        "  print('F')"
      ],
      "execution_count": 5,
      "outputs": [
        {
          "output_type": "stream",
          "text": [
            "B\n"
          ],
          "name": "stdout"
        }
      ]
    },
    {
      "cell_type": "markdown",
      "metadata": {
        "id": "nIV-rUsO3a-9"
      },
      "source": [
        "## **For Statement**\n",
        "For loops, in general, are used for sequential traversal. It falls under the category of definite iteration. Definite iterations means the number of repetitions is specified explicitly in advance. "
      ]
    },
    {
      "cell_type": "code",
      "metadata": {
        "id": "J_EVPKkL3a_B",
        "outputId": "2fd0b346-743c-4b48-a4d4-5fc081e4723c",
        "colab": {
          "base_uri": "https://localhost:8080/",
          "height": 88
        }
      },
      "source": [
        "# For loop\n",
        "print(\"List Iteration\")  \n",
        "l = [\"geeks\", \"for\", \"geeks\"]  \n",
        "for i in l:  \n",
        "    print(i) "
      ],
      "execution_count": 6,
      "outputs": [
        {
          "output_type": "stream",
          "text": [
            "List Iteration\n",
            "geeks\n",
            "for\n",
            "geeks\n"
          ],
          "name": "stdout"
        }
      ]
    },
    {
      "cell_type": "code",
      "metadata": {
        "id": "8hlTd6KiyFr9",
        "outputId": "08b5be92-f3a6-405a-bb86-362eebfac4d9",
        "colab": {
          "base_uri": "https://localhost:8080/",
          "height": 392
        }
      },
      "source": [
        "# First Example\n",
        "print (\"First Example\")\n",
        "for item in [1,2,3,4,5]:\n",
        "  print ('item :', item)\n",
        "# Second Example\n",
        "print (\"Second Example\")\n",
        "letters = ['A', 'B', 'C']\n",
        "for letter in letters:\n",
        "  print ('First loop letter :', letter)\n",
        "# Third Example - Iterating by sequency index\n",
        "print (\"Third Example\")\n",
        "for index in range(len(letters)):\n",
        "  print ('First loop letter :', letters[index])\n",
        "# Fourth Example - Using else statement\n",
        "print (\"Fourth Example\")\n",
        "for item in [1,2,3,4,5]:\n",
        "  print ('item :', item)\n",
        "else:\n",
        "  print ('looping over item complete!')"
      ],
      "execution_count": 7,
      "outputs": [
        {
          "output_type": "stream",
          "text": [
            "First Example\n",
            "item : 1\n",
            "item : 2\n",
            "item : 3\n",
            "item : 4\n",
            "item : 5\n",
            "Second Example\n",
            "First loop letter : A\n",
            "First loop letter : B\n",
            "First loop letter : C\n",
            "Third Example\n",
            "First loop letter : A\n",
            "First loop letter : B\n",
            "First loop letter : C\n",
            "Fourth Example\n",
            "item : 1\n",
            "item : 2\n",
            "item : 3\n",
            "item : 4\n",
            "item : 5\n",
            "looping over item complete!\n"
          ],
          "name": "stdout"
        }
      ]
    },
    {
      "cell_type": "markdown",
      "metadata": {
        "id": "WyhnbCo-yns_"
      },
      "source": [
        "Caution: I f a condition never becomes FALSE, the loop becomes an infinite loop."
      ]
    },
    {
      "cell_type": "markdown",
      "metadata": {
        "id": "SPajpZiv2-Yh"
      },
      "source": [
        "## **While Statement**\n",
        "While Loops is used to execute a block of statements repeatedly until a given condition is satisfied. And when the condition becomes false, the line immediately after the loop in the program is executed. While loop falls under the category of indefinite iteration. Indefinite iteration means that the number of times the loop is executed isn’t specified explicitly in advance."
      ]
    },
    {
      "cell_type": "code",
      "metadata": {
        "id": "QWGFtQOw3Gyo",
        "outputId": "3c81ad53-d34d-4566-c8e4-db95c00a86d9",
        "colab": {
          "base_uri": "https://localhost:8080/",
          "height": 88
        }
      },
      "source": [
        "# while loop \n",
        "count = 0\n",
        "while (count < 3):\t \n",
        "\tcount = count + 1\n",
        "\tprint(\"Hello Geek\") \n",
        "\n",
        "print() "
      ],
      "execution_count": 8,
      "outputs": [
        {
          "output_type": "stream",
          "text": [
            "Hello Geek\n",
            "Hello Geek\n",
            "Hello Geek\n",
            "\n"
          ],
          "name": "stdout"
        }
      ]
    },
    {
      "cell_type": "code",
      "metadata": {
        "id": "16vrGePPyvmz",
        "outputId": "121db2cd-a376-43ec-813f-a48d07da2e4d",
        "colab": {
          "base_uri": "https://localhost:8080/",
          "height": 124
        }
      },
      "source": [
        "count = 0\n",
        "while count < 5:\n",
        "  print (count, \" is less than 5\")\n",
        "  count = count + 1\n",
        "else:\n",
        "  print (count, \" is not less than 5\")"
      ],
      "execution_count": 9,
      "outputs": [
        {
          "output_type": "stream",
          "text": [
            "0  is less than 5\n",
            "1  is less than 5\n",
            "2  is less than 5\n",
            "3  is less than 5\n",
            "4  is less than 5\n",
            "5  is not less than 5\n"
          ],
          "name": "stdout"
        }
      ]
    }
  ]
}